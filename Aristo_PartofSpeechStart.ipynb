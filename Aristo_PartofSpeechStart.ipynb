{
 "cells": [
  {
   "cell_type": "markdown",
   "metadata": {},
   "source": [
    "# Aristo - Try to start looking into part-of-speech stuff, and question type stuff"
   ]
  },
  {
   "cell_type": "code",
   "execution_count": 5,
   "metadata": {
    "collapsed": false
   },
   "outputs": [],
   "source": [
    "import lupyne\n",
    "# Import statements\n",
    "import pandas as pd\n",
    "from HTMLParser import HTMLParser\n",
    "from urllib2 import urlopen\n",
    "from bs4 import BeautifulSoup\n",
    "# For next chunk\n",
    "import wikipedia as wiki\n",
    "#import util\n",
    "import os\n",
    "import textblob as blob"
   ]
  },
  {
   "cell_type": "code",
   "execution_count": 6,
   "metadata": {
    "collapsed": false
   },
   "outputs": [],
   "source": [
    "# Bring in training file\n",
    "train = pd.read_csv('./Sara_WorkingFolder/data/training_set.tsv', sep='\\t')"
   ]
  },
  {
   "cell_type": "code",
   "execution_count": 7,
   "metadata": {
    "collapsed": false
   },
   "outputs": [
    {
     "data": {
      "text/html": [
       "<div>\n",
       "<table border=\"1\" class=\"dataframe\">\n",
       "  <thead>\n",
       "    <tr style=\"text-align: right;\">\n",
       "      <th></th>\n",
       "      <th>id</th>\n",
       "      <th>question</th>\n",
       "      <th>correctAnswer</th>\n",
       "      <th>answerA</th>\n",
       "      <th>answerB</th>\n",
       "      <th>answerC</th>\n",
       "      <th>answerD</th>\n",
       "    </tr>\n",
       "  </thead>\n",
       "  <tbody>\n",
       "    <tr>\n",
       "      <th>0</th>\n",
       "      <td>100001</td>\n",
       "      <td>When athletes begin to exercise, their heart r...</td>\n",
       "      <td>C</td>\n",
       "      <td>at the tissue level</td>\n",
       "      <td>at the organ level</td>\n",
       "      <td>at the system level</td>\n",
       "      <td>at the cellular level</td>\n",
       "    </tr>\n",
       "    <tr>\n",
       "      <th>1</th>\n",
       "      <td>100002</td>\n",
       "      <td>Which example describes a learned behavior in ...</td>\n",
       "      <td>C</td>\n",
       "      <td>smelling the air for odors</td>\n",
       "      <td>barking when disturbed</td>\n",
       "      <td>sitting on command</td>\n",
       "      <td>digging in soil</td>\n",
       "    </tr>\n",
       "    <tr>\n",
       "      <th>2</th>\n",
       "      <td>100003</td>\n",
       "      <td>When two nuclei are combined into one nucleus,...</td>\n",
       "      <td>D</td>\n",
       "      <td>conversion</td>\n",
       "      <td>reaction</td>\n",
       "      <td>fission</td>\n",
       "      <td>fusion</td>\n",
       "    </tr>\n",
       "    <tr>\n",
       "      <th>3</th>\n",
       "      <td>100004</td>\n",
       "      <td>Which is a distinction between an epidemic and...</td>\n",
       "      <td>B</td>\n",
       "      <td>the symptoms of the disease</td>\n",
       "      <td>the geographical area affected</td>\n",
       "      <td>the species of organisms infected</td>\n",
       "      <td>the season in which the disease spreads</td>\n",
       "    </tr>\n",
       "    <tr>\n",
       "      <th>4</th>\n",
       "      <td>100005</td>\n",
       "      <td>In which way is the orbit of a comet different...</td>\n",
       "      <td>B</td>\n",
       "      <td>The orbit of Earth is less circular than the o...</td>\n",
       "      <td>The orbit of a comet is more elliptical than t...</td>\n",
       "      <td>The orbital period of Earth is much longer tha...</td>\n",
       "      <td>The orbital period of a comet is more predicta...</td>\n",
       "    </tr>\n",
       "  </tbody>\n",
       "</table>\n",
       "</div>"
      ],
      "text/plain": [
       "       id                                           question correctAnswer  \\\n",
       "0  100001  When athletes begin to exercise, their heart r...             C   \n",
       "1  100002  Which example describes a learned behavior in ...             C   \n",
       "2  100003  When two nuclei are combined into one nucleus,...             D   \n",
       "3  100004  Which is a distinction between an epidemic and...             B   \n",
       "4  100005  In which way is the orbit of a comet different...             B   \n",
       "\n",
       "                                             answerA  \\\n",
       "0                                at the tissue level   \n",
       "1                         smelling the air for odors   \n",
       "2                                         conversion   \n",
       "3                        the symptoms of the disease   \n",
       "4  The orbit of Earth is less circular than the o...   \n",
       "\n",
       "                                             answerB  \\\n",
       "0                                 at the organ level   \n",
       "1                             barking when disturbed   \n",
       "2                                           reaction   \n",
       "3                     the geographical area affected   \n",
       "4  The orbit of a comet is more elliptical than t...   \n",
       "\n",
       "                                             answerC  \\\n",
       "0                                at the system level   \n",
       "1                                 sitting on command   \n",
       "2                                            fission   \n",
       "3                  the species of organisms infected   \n",
       "4  The orbital period of Earth is much longer tha...   \n",
       "\n",
       "                                             answerD  \n",
       "0                              at the cellular level  \n",
       "1                                    digging in soil  \n",
       "2                                             fusion  \n",
       "3            the season in which the disease spreads  \n",
       "4  The orbital period of a comet is more predicta...  "
      ]
     },
     "execution_count": 7,
     "metadata": {},
     "output_type": "execute_result"
    }
   ],
   "source": [
    "train.head()"
   ]
  },
  {
   "cell_type": "code",
   "execution_count": 8,
   "metadata": {
    "collapsed": true
   },
   "outputs": [],
   "source": [
    "example_blob = blob.TextBlob(train['question'][0])"
   ]
  },
  {
   "cell_type": "code",
   "execution_count": 9,
   "metadata": {
    "collapsed": false
   },
   "outputs": [
    {
     "data": {
      "text/plain": [
       "TextBlob(\"When athletes begin to exercise, their heart rates and respiration rates increase.  At what level of organization does the human body coordinate these functions?\")"
      ]
     },
     "execution_count": 9,
     "metadata": {},
     "output_type": "execute_result"
    }
   ],
   "source": [
    "example_blob"
   ]
  },
  {
   "cell_type": "code",
   "execution_count": 10,
   "metadata": {
    "collapsed": false
   },
   "outputs": [
    {
     "data": {
      "text/plain": [
       "<textblob.en.taggers.NLTKTagger at 0x11573f9d0>"
      ]
     },
     "execution_count": 10,
     "metadata": {},
     "output_type": "execute_result"
    }
   ],
   "source": [
    "example_blob.pos_tagger"
   ]
  },
  {
   "cell_type": "code",
   "execution_count": 11,
   "metadata": {
    "collapsed": false
   },
   "outputs": [
    {
     "name": "stdout",
     "output_type": "stream",
     "text": [
      "\n",
      "**********************************************************************\n",
      "  Resource u'taggers/averaged_perceptron_tagger/averaged_perceptro\n",
      "  n_tagger.pickle' not found.  Please use the NLTK Downloader to\n",
      "  obtain the resource:  >>> nltk.download()\n",
      "  Searched in:\n",
      "    - '/Users/sararogis/nltk_data'\n",
      "    - '/usr/share/nltk_data'\n",
      "    - '/usr/local/share/nltk_data'\n",
      "    - '/usr/lib/nltk_data'\n",
      "    - '/usr/local/lib/nltk_data'\n",
      "**********************************************************************\n"
     ]
    },
    {
     "ename": "MissingCorpusError",
     "evalue": "\nLooks like you are missing some required data for this feature.\n\nTo download the necessary data, simply run\n\n    python -m textblob.download_corpora\n\nor use the NLTK downloader to download the missing data: http://nltk.org/data.html\nIf this doesn't fix the problem, file an issue at https://github.com/sloria/TextBlob/issues.\n",
     "output_type": "error",
     "traceback": [
      "\u001b[0;31m---------------------------------------------------------------------------\u001b[0m",
      "\u001b[0;31mMissingCorpusError\u001b[0m                        Traceback (most recent call last)",
      "\u001b[0;32m<ipython-input-11-56e5696a1db7>\u001b[0m in \u001b[0;36m<module>\u001b[0;34m()\u001b[0m\n\u001b[0;32m----> 1\u001b[0;31m \u001b[0mexample_blob\u001b[0m\u001b[0;34m.\u001b[0m\u001b[0mpos_tags\u001b[0m\u001b[0;34m\u001b[0m\u001b[0m\n\u001b[0m",
      "\u001b[0;32m/Users/sararogis/anaconda/envs/py27/lib/python2.7/site-packages/textblob/decorators.pyc\u001b[0m in \u001b[0;36m__get__\u001b[0;34m(self, obj, cls)\u001b[0m\n\u001b[1;32m     22\u001b[0m         \u001b[0;32mif\u001b[0m \u001b[0mobj\u001b[0m \u001b[0;32mis\u001b[0m \u001b[0mNone\u001b[0m\u001b[0;34m:\u001b[0m\u001b[0;34m\u001b[0m\u001b[0m\n\u001b[1;32m     23\u001b[0m             \u001b[0;32mreturn\u001b[0m \u001b[0mself\u001b[0m\u001b[0;34m\u001b[0m\u001b[0m\n\u001b[0;32m---> 24\u001b[0;31m         \u001b[0mvalue\u001b[0m \u001b[0;34m=\u001b[0m \u001b[0mobj\u001b[0m\u001b[0;34m.\u001b[0m\u001b[0m__dict__\u001b[0m\u001b[0;34m[\u001b[0m\u001b[0mself\u001b[0m\u001b[0;34m.\u001b[0m\u001b[0mfunc\u001b[0m\u001b[0;34m.\u001b[0m\u001b[0m__name__\u001b[0m\u001b[0;34m]\u001b[0m \u001b[0;34m=\u001b[0m \u001b[0mself\u001b[0m\u001b[0;34m.\u001b[0m\u001b[0mfunc\u001b[0m\u001b[0;34m(\u001b[0m\u001b[0mobj\u001b[0m\u001b[0;34m)\u001b[0m\u001b[0;34m\u001b[0m\u001b[0m\n\u001b[0m\u001b[1;32m     25\u001b[0m         \u001b[0;32mreturn\u001b[0m \u001b[0mvalue\u001b[0m\u001b[0;34m\u001b[0m\u001b[0m\n\u001b[1;32m     26\u001b[0m \u001b[0;34m\u001b[0m\u001b[0m\n",
      "\u001b[0;32m/Users/sararogis/anaconda/envs/py27/lib/python2.7/site-packages/textblob/blob.pyc\u001b[0m in \u001b[0;36mpos_tags\u001b[0;34m(self)\u001b[0m\n\u001b[1;32m    443\u001b[0m         \"\"\"\n\u001b[1;32m    444\u001b[0m         return [(Word(word, pos_tag=t), unicode(t))\n\u001b[0;32m--> 445\u001b[0;31m                 \u001b[0;32mfor\u001b[0m \u001b[0mword\u001b[0m\u001b[0;34m,\u001b[0m \u001b[0mt\u001b[0m \u001b[0;32min\u001b[0m \u001b[0mself\u001b[0m\u001b[0;34m.\u001b[0m\u001b[0mpos_tagger\u001b[0m\u001b[0;34m.\u001b[0m\u001b[0mtag\u001b[0m\u001b[0;34m(\u001b[0m\u001b[0mself\u001b[0m\u001b[0;34m.\u001b[0m\u001b[0mraw\u001b[0m\u001b[0;34m)\u001b[0m\u001b[0;34m\u001b[0m\u001b[0m\n\u001b[0m\u001b[1;32m    446\u001b[0m                 if not PUNCTUATION_REGEX.match(unicode(t))]\n\u001b[1;32m    447\u001b[0m \u001b[0;34m\u001b[0m\u001b[0m\n",
      "\u001b[0;32m/Users/sararogis/anaconda/envs/py27/lib/python2.7/site-packages/textblob/decorators.pyc\u001b[0m in \u001b[0;36mdecorated\u001b[0;34m(*args, **kwargs)\u001b[0m\n\u001b[1;32m     36\u001b[0m         \u001b[0;32mexcept\u001b[0m \u001b[0mLookupError\u001b[0m \u001b[0;32mas\u001b[0m \u001b[0merr\u001b[0m\u001b[0;34m:\u001b[0m\u001b[0;34m\u001b[0m\u001b[0m\n\u001b[1;32m     37\u001b[0m             \u001b[0;32mprint\u001b[0m\u001b[0;34m(\u001b[0m\u001b[0merr\u001b[0m\u001b[0;34m)\u001b[0m\u001b[0;34m\u001b[0m\u001b[0m\n\u001b[0;32m---> 38\u001b[0;31m             \u001b[0;32mraise\u001b[0m \u001b[0mMissingCorpusError\u001b[0m\u001b[0;34m(\u001b[0m\u001b[0;34m)\u001b[0m\u001b[0;34m\u001b[0m\u001b[0m\n\u001b[0m\u001b[1;32m     39\u001b[0m     \u001b[0;32mreturn\u001b[0m \u001b[0mdecorated\u001b[0m\u001b[0;34m\u001b[0m\u001b[0m\n",
      "\u001b[0;31mMissingCorpusError\u001b[0m: \nLooks like you are missing some required data for this feature.\n\nTo download the necessary data, simply run\n\n    python -m textblob.download_corpora\n\nor use the NLTK downloader to download the missing data: http://nltk.org/data.html\nIf this doesn't fix the problem, file an issue at https://github.com/sloria/TextBlob/issues.\n"
     ]
    }
   ],
   "source": [
    "example_blob.pos_tags"
   ]
  },
  {
   "cell_type": "code",
   "execution_count": 16,
   "metadata": {
    "collapsed": false
   },
   "outputs": [
    {
     "data": {
      "text/plain": [
       "[(u'When', u'WRB'),\n",
       " (u'athletes', u'NNS'),\n",
       " (u'begin', u'VB'),\n",
       " (u'to', u'TO'),\n",
       " (u'exercise', u'NN'),\n",
       " (u'their', u'PRP$'),\n",
       " (u'heart', u'NN'),\n",
       " (u'rates', u'NNS'),\n",
       " (u'and', u'CC'),\n",
       " (u'respiration', u'NN'),\n",
       " (u'rates', u'NNS'),\n",
       " (u'increase', u'NN'),\n",
       " (u'At', u'IN'),\n",
       " (u'what', u'WP'),\n",
       " (u'level', u'NN'),\n",
       " (u'of', u'IN'),\n",
       " (u'organization', u'NN'),\n",
       " (u'does', u'VBZ'),\n",
       " (u'the', u'DT'),\n",
       " (u'human', u'JJ'),\n",
       " (u'body', u'NN'),\n",
       " (u'coordinate', u'VB'),\n",
       " (u'these', u'DT'),\n",
       " (u'functions', u'NNS')]"
      ]
     },
     "execution_count": 16,
     "metadata": {},
     "output_type": "execute_result"
    }
   ],
   "source": [
    "example_blob.tags"
   ]
  },
  {
   "cell_type": "code",
   "execution_count": null,
   "metadata": {
    "collapsed": true
   },
   "outputs": [],
   "source": []
  }
 ],
 "metadata": {
  "kernelspec": {
   "display_name": "Python 2",
   "language": "python",
   "name": "python2"
  },
  "language_info": {
   "codemirror_mode": {
    "name": "ipython",
    "version": 2
   },
   "file_extension": ".py",
   "mimetype": "text/x-python",
   "name": "python",
   "nbconvert_exporter": "python",
   "pygments_lexer": "ipython2",
   "version": "2.7.11"
  }
 },
 "nbformat": 4,
 "nbformat_minor": 0
}
